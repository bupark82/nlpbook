{
 "cells": [
  {
   "cell_type": "code",
   "execution_count": null,
   "metadata": {},
   "outputs": [],
   "source": [
    "[[ch12]]"
   ]
  },
  {
   "attachments": {},
   "cell_type": "markdown",
   "metadata": {},
   "source": [
    "# Conclusion"
   ]
  },
  {
   "attachments": {},
   "cell_type": "markdown",
   "metadata": {},
   "source": [
    "This brings us to the end of our journey together. Over the course of 11 chapters, we introduced the origins of natural language processing and retraced how the field has advanced over the past decade. We delved into the nitty-gritty details of the space, including preprocessing and tokenization and several types of word embeddings, such Word2Vec, GloVe, and fastText.\n",
    "\n",
    "We covered everything from vanilla recurrent nets to gated variants such as LSTM and GRUs. And, we explained how attention mechanisms, contexttualized word embeddings, and Transformers helped shatter previous performance records. Most importantly, we used large, pretrained language models to perform transfer learning and fine-tune models and discussed how to productionize the models using various tools of the trade.\n",
    "\n",
    "Instead of getting bogged down in theory, we focused mostly on applying state-of-the-art NLP techniques to solve real-world problems. We hope this helped you build greater intuition about NLP, how it works, and how to apply it well.\n",
    "\n",
    "By now it should be clear that getting up and running with NLP is relatively easy, partly thanks to the open sourcing of large, pretrained language models by research teams at Google, Facebook, OpenAI, and others. Companies such as spaCy, HuggingFace, AllenNLP, Amazon, Microsoft, and Google have introduced great tooling for NLP, too, making it less painful to develop NLP models of your own from scrach or fine-tune existing models."
   ]
  },
  {
   "attachments": {},
   "cell_type": "markdown",
   "metadata": {},
   "source": [
    "## Ten Final Lessons"
   ]
  },
  {
   "attachments": {},
   "cell_type": "markdown",
   "metadata": {},
   "source": [
    "But, as we said in the Prface, many organizations today still struggle with developing and productionizing NLP applications and fail to get a good return on the investment in time, effort, and money that they make. With this in mind, we want to share with you some parting advice from hard-learned lessons we've experienced along the way."
   ]
  },
  {
   "attachments": {},
   "cell_type": "markdown",
   "metadata": {},
   "source": [
    "### Lesson 1: Start with Simple Approches First"
   ]
  },
  {
   "attachments": {},
   "cell_type": "markdown",
   "metadata": {},
   "source": [
    "### Lesson 2: Leverage the Community"
   ]
  },
  {
   "attachments": {},
   "cell_type": "markdown",
   "metadata": {},
   "source": [
    "### Lesson 3: Do Not Create from Scratch, When Possible"
   ]
  },
  {
   "attachments": {},
   "cell_type": "markdown",
   "metadata": {},
   "source": [
    "### Lesson 4: Intuition and Experience Trounce Theory"
   ]
  },
  {
   "attachments": {},
   "cell_type": "markdown",
   "metadata": {},
   "source": [
    "### Lesson 5: Fight Decision Fatigue"
   ]
  },
  {
   "attachments": {},
   "cell_type": "markdown",
   "metadata": {},
   "source": [
    "### Lesson 6: Data Is King"
   ]
  },
  {
   "attachments": {},
   "cell_type": "markdown",
   "metadata": {},
   "source": [
    "### Lesson 7: Learn on Humans"
   ]
  },
  {
   "attachments": {},
   "cell_type": "markdown",
   "metadata": {},
   "source": [
    "### Lesson 8: Pair Yourself with Really Great Engineers"
   ]
  },
  {
   "attachments": {},
   "cell_type": "markdown",
   "metadata": {},
   "source": [
    "### Lesson 9: Ensemble"
   ]
  },
  {
   "attachments": {},
   "cell_type": "markdown",
   "metadata": {},
   "source": [
    "### Lesson 10: Have Fun"
   ]
  }
 ],
 "metadata": {
  "language_info": {
   "name": "python"
  },
  "orig_nbformat": 4
 },
 "nbformat": 4,
 "nbformat_minor": 2
}
