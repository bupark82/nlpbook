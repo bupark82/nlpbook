{
 "cells": [
  {
   "cell_type": "raw",
   "id": "gorgeous-allah",
   "metadata": {},
   "source": [
    "[appendix]"
   ]
  },
  {
   "cell_type": "markdown",
   "id": "improved-defense",
   "metadata": {},
   "source": [
    "# CUDA"
   ]
  },
  {
   "cell_type": "markdown",
   "id": "romantic-saturn",
   "metadata": {},
   "source": [
    "## Threads and Thread Blocks"
   ]
  },
  {
   "cell_type": "markdown",
   "id": "suited-album",
   "metadata": {},
   "source": [
    "## Writing CUDA Kernels"
   ]
  },
  {
   "cell_type": "markdown",
   "id": "caroline-concept",
   "metadata": {},
   "source": [
    "## CUDA in Practice"
   ]
  }
 ],
 "metadata": {
  "kernelspec": {
   "display_name": "Python 3 (ipykernel)",
   "language": "python",
   "name": "python3"
  },
  "language_info": {
   "codemirror_mode": {
    "name": "ipython",
    "version": 3
   },
   "file_extension": ".py",
   "mimetype": "text/x-python",
   "name": "python",
   "nbconvert_exporter": "python",
   "pygments_lexer": "ipython3",
   "version": "3.10.9"
  }
 },
 "nbformat": 4,
 "nbformat_minor": 5
}
