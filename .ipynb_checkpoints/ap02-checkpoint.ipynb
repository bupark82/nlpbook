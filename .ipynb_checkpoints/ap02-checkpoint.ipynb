{
 "cells": [
  {
   "cell_type": "raw",
   "id": "gorgeous-allah",
   "metadata": {},
   "source": [
    "[appendix]"
   ]
  },
  {
   "cell_type": "markdown",
   "id": "improved-defense",
   "metadata": {},
   "source": [
    "# CUDA"
   ]
  },
  {
   "cell_type": "markdown",
   "id": "romantic-saturn",
   "metadata": {},
   "source": [
    "## Threads and Thread Blocks"
   ]
  },
  {
   "cell_type": "markdown",
   "id": "suited-album",
   "metadata": {},
   "source": [
    "## Writing CUDA Kernels"
   ]
  },
  {
   "cell_type": "markdown",
   "id": "caroline-concept",
   "metadata": {},
   "source": [
    "## CUDA in Practice"
   ]
  }
 ],
 "metadata": {
  "kernelspec": {
   "display_name": "Python 3",
   "language": "python",
   "name": "python3"
  }
 },
 "nbformat": 4,
 "nbformat_minor": 5
}
